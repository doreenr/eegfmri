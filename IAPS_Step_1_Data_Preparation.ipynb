{
 "metadata": {
  "name": "IAPS_Step_1_Data_Preparation"
 },
 "nbformat": 3,
 "nbformat_minor": 0,
 "worksheets": [
  {
   "cells": [
    {
     "cell_type": "code",
     "collapsed": false,
     "input": [
      "%pylab inline"
     ],
     "language": "python",
     "metadata": {},
     "outputs": [
      {
       "output_type": "stream",
       "stream": "stdout",
       "text": [
        "\n",
        "Welcome to pylab, a matplotlib-based Python environment [backend: module://IPython.kernel.zmq.pylab.backend_inline].\n",
        "For more information, type 'help(pylab)'.\n"
       ]
      }
     ],
     "prompt_number": 1
    },
    {
     "cell_type": "code",
     "collapsed": false,
     "input": [
      "%%file remove.py\n",
      "\n",
      "def remove(lister, val):\n",
      "   return [value for value in lister if value != val]\n",
      "\n",
      "def remove_range(lister, val):\n",
      "   return [value for value in lister if value < val]"
     ],
     "language": "python",
     "metadata": {},
     "outputs": [
      {
       "output_type": "stream",
       "stream": "stdout",
       "text": [
        "Overwriting remove.py\n"
       ]
      }
     ],
     "prompt_number": 2
    },
    {
     "cell_type": "code",
     "collapsed": false,
     "input": [
      "import numpy as np\n",
      "import matplotlib.pylab as plt\n",
      "import os \n",
      "import pandas as pd\n",
      "import scipy as scipy\n",
      "import scipy.io as sio\n",
      "from scipy.stats.stats import pearsonr\n",
      "import matplotlib.pyplot as plt\n"
     ],
     "language": "python",
     "metadata": {},
     "outputs": [],
     "prompt_number": 3
    },
    {
     "cell_type": "markdown",
     "metadata": {},
     "source": [
      "### Get Stimulus Information.\n",
      "Write to text file."
     ]
    },
    {
     "cell_type": "code",
     "collapsed": false,
     "input": [
      "blocks = ['A','B','C','D']\n",
      "runs = 4\n",
      "f = open('/gablab/p/eegfmri/analysis/iaps/all_labels.txt', 'w')\n",
      "for r in range(runs):\n",
      "    path_csv = '/mindhive/xnat/data/eegfmri/IAPS_realtime/listfiles'\n",
      "    path_h = os.path.join(path_csv, 'encodeBlock%s.csv' %(blocks[r]))\n",
      "    df = pd.read_csv(path_h)\n",
      "    valmn = df.valmn \n",
      "    aromn = df.aromn\n",
      "    eegcode = df.eegCode\n",
      "    binary_labels = []\n",
      "    for i in range(len(eegcode)):\n",
      "        valmn[i] = int(round(valmn[i]))\n",
      "        aromn[i] = int(round(aromn[i]))\n",
      "        if eegcode[i] >= 121:\n",
      "            binary_labels.append(1)\n",
      "        if eegcode[i] < 121:\n",
      "            binary_labels.append(-1)\n",
      "    unique = sorted(list(set(valmn)))\n",
      "    print 'Unique values in VALMN', unique\n",
      "    unique = sorted(list(set(aromn)))\n",
      "    print 'Unique values in AROMN', unique\n",
      "    corr = [scipy.stats.pearsonr(valmn, aromn)]\n",
      "    print 'Correlation between Valence and Arousal', corr\n",
      "    corr = [scipy.stats.pearsonr(valmn, binary_labels)]\n",
      "    print 'Correlation between Valence and Negative/Neutral Classification', corr\n",
      "    corr = [scipy.stats.pearsonr(aromn, binary_labels)]\n",
      "    print 'Correlation between Arousal and Negative/Neutral Classification', corr\n",
      "    print '__________________________________________________________________________________________________________'\n",
      "    print '                                                                                                          '\n",
      "    for i in range(len(eegcode)):\n",
      "        f.write(\"%s  %s  %s  %s\" %(eegcode[i], valmn[i], aromn[i], binary_labels[i]))\n",
      "        f.write('\\n')\n",
      "f.close()"
     ],
     "language": "python",
     "metadata": {},
     "outputs": [
      {
       "output_type": "stream",
       "stream": "stdout",
       "text": [
        "Unique values in VALMN [2.0, 3.0, 4.0, 5.0, 6.0]\n",
        "Unique values in AROMN [2.0, 3.0, 4.0, 5.0, 6.0, 7.0]\n",
        "Correlation between Valence and Arousal [(-0.82868708197996344, 3.0107569745223372e-16)]\n",
        "Correlation between Valence and Negative/Neutral Classification [(0.87783196660875673, 3.3933453195896632e-20)]\n",
        "Correlation between Arousal and Negative/Neutral Classification [(-0.91246391231807933, 3.5182419739934265e-24)]\n",
        "__________________________________________________________________________________________________________\n",
        "                                                                                                          \n",
        "Unique values in VALMN [1.0, 2.0, 3.0, 4.0, 5.0, 6.0]\n",
        "Unique values in AROMN [2.0, 3.0, 4.0, 5.0, 6.0, 7.0]\n",
        "Correlation between Valence and Arousal [(-0.78620780370823584, 9.8682899188899728e-14)]\n",
        "Correlation between Valence and Negative/Neutral Classification [(0.88733494520489542, 3.7139901854993388e-21)]\n",
        "Correlation between Arousal and Negative/Neutral Classification [(-0.86690022851828141, 3.480782327813316e-19)]\n",
        "__________________________________________________________________________________________________________\n",
        "                                                                                                          \n",
        "Unique values in VALMN"
       ]
      },
      {
       "output_type": "stream",
       "stream": "stdout",
       "text": [
        " [2.0, 3.0, 4.0, 5.0, 6.0]\n",
        "Unique values in AROMN [2.0, 3.0, 4.0, 5.0, 6.0, 7.0]\n",
        "Correlation between Valence and Arousal [(-0.79763133237305373, 2.3821945739709809e-14)]\n",
        "Correlation between Valence and Negative/Neutral Classification [(0.86990379357889969, 1.8750735543455348e-19)]\n",
        "Correlation between Arousal and Negative/Neutral Classification [(-0.92502437972887241, 4.7024154546710388e-26)]\n",
        "__________________________________________________________________________________________________________\n",
        "                                                                                                          \n",
        "Unique values in VALMN [1.0, 2.0, 3.0, 4.0, 5.0, 6.0]\n",
        "Unique values in AROMN [2.0, 3.0, 4.0, 5.0, 6.0, 7.0]\n",
        "Correlation between Valence and Arousal [(-0.85126255853554877, 6.955724476631113e-18)]\n",
        "Correlation between Valence and Negative/Neutral Classification [(0.88041312616706979, 1.8956514992546721e-20)]\n",
        "Correlation between Arousal and Negative/Neutral Classification [(-0.90575945770230892, 2.7204475631315682e-23)]\n",
        "__________________________________________________________________________________________________________\n",
        "                                                                                                          \n"
       ]
      }
     ],
     "prompt_number": 4
    },
    {
     "cell_type": "markdown",
     "metadata": {},
     "source": [
      "### Prepare labels, concatenate runs, setup complete dataset."
     ]
    },
    {
     "cell_type": "code",
     "collapsed": false,
     "input": [
      "# %%file create_dataset.py\n",
      "\n",
      "def create_dataset(subject_id):\n",
      "    import numpy as np\n",
      "    import os \n",
      "    from nilearn import datasets\n",
      "    from nilearn.datasets import _get_dataset_dir\n",
      "    from nilearn.datasets import _get_dataset\n",
      "    from sklearn.datasets.base import Bunch\n",
      "    import pylab as pl\n",
      "    import nibabel as nb\n",
      "    \n",
      "    from remove import remove_range, remove\n",
      "\n",
      "    dataset_name = 'machine_learning'\n",
      "    runs = 4\n",
      "    img_data = np.zeros((64,64,33,1))\n",
      "    lab_data = []\n",
      "    session_data = []\n",
      "    for r in range(runs):\n",
      "        print 'RUN', r\n",
      "        rv = None\n",
      "        path = '/gablab/p/eegfmri/analysis/eeg/elists'\n",
      "        path_all_codes = '/gablab/p/eegfmri/analysis/iaps/all_labels.txt'\n",
      "        path_names2 = os.path.join(path, 'elist_IAPS_%s_%s_raw.txt' %(subject_id, r+1))\n",
      "        if subject_id == '009':\n",
      "            path_names2 = os.path.join(path, 'elist_IAPS_%s_%s.txt' %(subject_id, r+1)) \n",
      "        eegcodes = np.genfromtxt(path_all_codes, dtype=int) [:, 0]\n",
      "        attributes = np.genfromtxt(path_all_codes, dtype=float) [:, 1:4]\n",
      "        binary = attributes[:, 2]\n",
      "        run_code = np.genfromtxt(path_names2, dtype=str) [:,3]\n",
      "        clock = np.genfromtxt(path_names2, dtype=str) [:,4] \n",
      "        cl = []\n",
      "        tp = []\n",
      "        for i in range(len(clock)):\n",
      "            if run_code[i] == 'R128':\n",
      "                timepoint = clock[i].lstrip('0123456789')  \n",
      "                tp.append(timepoint)            \n",
      "            if len(tp) > 0:\n",
      "                clock[i] = clock[i].lstrip('0123456789')\n",
      "                if clock[i] == tp[0]:\n",
      "                    cl.append([i])\n",
      "                    if run_code[i] != 'R128':\n",
      "                        print i, run_code[i] \n",
      "                if clock[i] != tp[0] and run_code[i] == 'R128':\n",
      "                    print 'TR at index', i, 'removed.'\n",
      "                    run_code[i] = 'remove'\n",
      "        print 'Numbers of TR identical timepoints', len(cl)\n",
      "        tr = []\n",
      "        for idx,i in enumerate(run_code):\n",
      "            if i == 'R128':\n",
      "                tr.append([idx])\n",
      "        print 'Number of TR counted from elist code', len(tr)\n",
      "        rv = remove(run_code, 'R')\n",
      "        rv = remove(rv, 'remove')\n",
      "        rv = remove(rv, 'boundary')\n",
      "        rv = remove(rv, 'SyncOn')\n",
      "        rv = remove(rv, 'Start')\n",
      "        rv = remove(rv, 'Userdefined')\n",
      "        rv = remove(rv, 'LowCorrelation')\n",
      "        rv = remove(rv, 'TSTART')\n",
      "        rv = remove(rv, 'TPEAK')\n",
      "        rv = remove(rv, 'TEND')\n",
      "        for i in range(len(rv)):\n",
      "            if rv[i] == 'R128':\n",
      "                rv[i] = '-99'\n",
      "            rv[i] = rv[i].lstrip('S')\n",
      "            rv[i] = int(rv[i])\n",
      "        # remove stimulus codes for responses\n",
      "        rv = remove_range(rv, 240)\n",
      "        for idx, i in enumerate(rv):\n",
      "            for idx2, i2 in enumerate(eegcodes):\n",
      "                if i == i2:\n",
      "                    rv[idx] = binary[idx2]            \n",
      "        for idx, i in enumerate(rv):\n",
      "            if i != -99:\n",
      "                rv[idx-1] = i\n",
      "                rv[idx] = 0\n",
      "        # remove last TR as it was apparently not recorded\n",
      "        rv[-1] = 0\n",
      "        rv = remove(rv, 0)\n",
      "        for idx, i in enumerate(rv):\n",
      "            if i == -99:\n",
      "                rv[idx] = 0\n",
      "        \n",
      "        # until now the list with negative / neutral labels also contains zeros, which we will want to get rid of. \n",
      "        # To do this, we will replace the zeros with the code shown prior\n",
      "        # First two values will be deleted as well as first two TRs (after fmri_data_i gets assigned\n",
      "        \n",
      "        for idx, z in enumerate(rv):\n",
      "            if idx <= 2 and z == 0:\n",
      "                rv[idx] = -77\n",
      "            if idx > 2 and z == 0:\n",
      "                rv[idx] = rv[idx-1]\n",
      "                \n",
      "        for idx, z in enumerate(rv):\n",
      "            if idx <= 1 and z != -77:\n",
      "                print 'Warning, non-empty first two TRs were deleted.'\n",
      "        \n",
      "        rv = remove(rv, -77)\n",
      "        unique = sorted(list(set(rv)))\n",
      "        print 'Unique values in RV', unique  \n",
      "        \n",
      "        t = open('/gablab/p/eegfmri/analysis/iaps/pilot%s/machine_learning/neg-neutr_attributes_run%s.txt' %(subject_id, r), 'w')\n",
      "        for i in range(len(rv)):\n",
      "            t.write(\"%s %s\" %(rv[i], r))\n",
      "            t.write('\\n')  \n",
      "        t.close()\n",
      "        \n",
      "        print 'Labels Length:', len(rv)\n",
      "        file_name = ['neg-neutr_attributes_run%s.txt' %(r), 'pilot%s_r0%s_bandpassed.nii.gz' %(subject_id, r)]\n",
      "        fil = _get_dataset(dataset_name, file_name, data_dir='/gablab/p/eegfmri/analysis/iaps/pilot%s' %(subject_id), folder=None)\n",
      "        ds_i = Bunch(func=fil[1], conditions_target=fil[0])\n",
      "        labels_i = np.loadtxt(ds_i.conditions_target, dtype=np.str)\n",
      "        \n",
      "        # work in progress, shorten labels manually\n",
      "        # labels_i = labels_i[1:,:]\n",
      "        # print 'Labels shortened by 1', labels_i.shape\n",
      "        \n",
      "        \n",
      "        bold_i = nb.load(ds_i.func)\n",
      "        fmri_data_i = np.copy(bold_i.get_data())        \n",
      "        fmri_data_i = fmri_data_i[...,2:]\n",
      "        print 'fMRI data shortened by 2 TRs', fmri_data_i.shape\n",
      "        \n",
      "        affine = bold_i.get_affine()\n",
      "        mean_img_i = np.mean(fmri_data_i, axis=3)\n",
      "        session_data = np.append(session_data, labels_i[:,1])\n",
      "        lab_data = np.append(lab_data, labels_i[:,0])\n",
      "        img_data = np.concatenate((img_data, fmri_data_i), axis=3)        \n",
      "        print '__________________________________________________________________________________________________________'\n",
      "        \n",
      "        \n",
      "        if r == 3:\n",
      "            img_data = img_data[...,1:]\n",
      "            print 'fMRI image', img_data.shape\n",
      "            print 'Label Vector Length:', len(lab_data), 'Session Vector Length:', len(session_data)\n",
      "            ni_img = nb.Nifti1Image(img_data, affine=None, header=None)\n",
      "            nb.save(ni_img, '/gablab/p/eegfmri/analysis/iaps/pilot%s/machine_learning/all_runs.nii' %(subject_id))\n",
      "            f = open('/gablab/p/eegfmri/analysis/iaps/pilot%s/machine_learning/neg-neutr_attributes_all_runs.txt' %(subject_id), 'w')\n",
      "            for i in range(len(lab_data)):\n",
      "                f.write(\"%s %s\" %(lab_data[i], session_data[i]))\n",
      "                f.write('\\n')  \n",
      "            f.close()\n",
      "            # set up concatenated dataset in nilearn format\n",
      "            file_names = ['neg-neutr_attributes_all_runs.txt', 'all_runs.nii']\n",
      "            files = _get_dataset(dataset_name, file_names, data_dir='/gablab/p/eegfmri/analysis/iaps/pilot%s' %(subject_id), folder=None)\n",
      "            ds = Bunch(func=files[1], conditions_target=files[0])\n",
      "            print ds.keys(), ds\n",
      "            labels = np.loadtxt(ds.conditions_target, dtype=np.str)\n",
      "            bold = nb.load(ds.func)\n",
      "            fmri_data = np.copy(bold.get_data())\n",
      "            print fmri_data.shape\n",
      "            affine = bold_i.get_affine() # just choose one\n",
      "            # Compute the mean EPI: we do the mean along the axis 3, which is time\n",
      "            mean_img = np.mean(fmri_data, axis=3)\n",
      "            \n",
      "    return (ds, labels, bold, fmri_data, affine, mean_img) # later 'ds' will be sufficient\n",
      "\n",
      "def create_data_run(subject_id, run):\n",
      "    import numpy as np\n",
      "    import os \n",
      "    from nilearn import datasets\n",
      "    from nilearn.datasets import _get_dataset_dir\n",
      "    from nilearn.datasets import _get_dataset\n",
      "    from sklearn.datasets.base import Bunch\n",
      "    import pylab as pl\n",
      "    import nibabel as nb\n",
      "    dataset_name = 'machine_learning'\n",
      "    file_name = ['neg-neutr_attributes_run%s.txt' %(run), 'pilot%s_r0%s_bandpassed.nii.gz' %(subject_id, run)]\n",
      "    fil = _get_dataset(dataset_name, file_name, data_dir='/gablab/p/eegfmri/analysis/iaps/pilot%s' %(subject_id), folder=None)\n",
      "    ds_i = Bunch(func=fil[1], conditions_target=fil[0])\n",
      "    labels_i = np.loadtxt(ds_i.conditions_target, dtype=np.str)\n",
      "    bold_i = nb.load(ds_i.func)\n",
      "    fmri_data_i = np.copy(bold_i.get_data())\n",
      "    print 'Original fMRI data', fmri_data_i.shape    \n",
      "    fmri_data_i = fmri_data_i[...,2:]\n",
      "    return ds_i\n",
      "    \n",
      "###################################################################################################################################################################################\n",
      "\n",
      "ds, labels, bold, fmri_data, affine, mean_img = create_dataset('011')\n",
      "\n",
      "# ds_1 = create_data_run('011', 1)\n"
     ],
     "language": "python",
     "metadata": {},
     "outputs": [
      {
       "output_type": "stream",
       "stream": "stdout",
       "text": [
        "RUN 0\n",
        "TR at index"
       ]
      },
      {
       "output_type": "stream",
       "stream": "stdout",
       "text": [
        " 491 removed.\n",
        "Numbers of TR identical timepoints 149\n",
        "Number of TR counted from elist code 149\n",
        "Unique values in RV"
       ]
      },
      {
       "output_type": "stream",
       "stream": "stdout",
       "text": [
        " [-1.0, 1.0]\n",
        "Labels Length: 146\n",
        "fMRI data shortened by 2 TRs"
       ]
      },
      {
       "output_type": "stream",
       "stream": "stdout",
       "text": [
        " (64, 64, 33, 146)\n",
        "__________________________________________________________________________________________________________"
       ]
      },
      {
       "output_type": "stream",
       "stream": "stdout",
       "text": [
        "\n",
        "RUN 1\n",
        "TR at index 483 removed.\n",
        "Numbers of TR identical timepoints 146\n",
        "Number of TR counted from elist code 146\n",
        "Unique values in RV"
       ]
      },
      {
       "output_type": "stream",
       "stream": "stdout",
       "text": [
        " [-1.0, 1.0]\n",
        "Labels Length: 143\n",
        "fMRI data shortened by 2 TRs"
       ]
      },
      {
       "output_type": "stream",
       "stream": "stdout",
       "text": [
        " (64, 64, 33, 143)\n",
        "__________________________________________________________________________________________________________"
       ]
      },
      {
       "output_type": "stream",
       "stream": "stdout",
       "text": [
        "\n",
        "RUN 2\n",
        "TR at index 481 removed.\n",
        "Numbers of TR identical timepoints 145\n",
        "Number of TR counted from elist code 145\n",
        "Unique values in RV"
       ]
      },
      {
       "output_type": "stream",
       "stream": "stdout",
       "text": [
        " [-1.0, 1.0]\n",
        "Labels Length: 142\n",
        "fMRI data shortened by 2 TRs"
       ]
      },
      {
       "output_type": "stream",
       "stream": "stdout",
       "text": [
        " (64, 64, 33, 142)\n",
        "__________________________________________________________________________________________________________"
       ]
      },
      {
       "output_type": "stream",
       "stream": "stdout",
       "text": [
        "\n",
        "RUN 3\n",
        "TR at index 482 removed.\n",
        "Numbers of TR identical timepoints 146\n",
        "Number of TR counted from elist code 146\n",
        "Unique values in RV"
       ]
      },
      {
       "output_type": "stream",
       "stream": "stdout",
       "text": [
        " [-1.0, 1.0]\n",
        "Labels Length: 143\n",
        "fMRI data shortened by 2 TRs"
       ]
      },
      {
       "output_type": "stream",
       "stream": "stdout",
       "text": [
        " (64, 64, 33, 143)\n",
        "__________________________________________________________________________________________________________"
       ]
      },
      {
       "output_type": "stream",
       "stream": "stdout",
       "text": [
        "\n",
        "fMRI image (64, 64, 33, 574)\n",
        "Label Vector Length: 574 Session Vector Length: 574\n",
        "['func', 'conditions_target']"
       ]
      },
      {
       "output_type": "stream",
       "stream": "stdout",
       "text": [
        " {'func': '/gablab/p/eegfmri/analysis/iaps/pilot011/machine_learning/all_runs.nii', 'conditions_target': '/gablab/p/eegfmri/analysis/iaps/pilot011/machine_learning/neg-neutr_attributes_all_runs.txt'}\n",
        "(64, 64, 33, 574)"
       ]
      },
      {
       "output_type": "stream",
       "stream": "stdout",
       "text": [
        "\n"
       ]
      }
     ],
     "prompt_number": 5
    },
    {
     "cell_type": "markdown",
     "metadata": {},
     "source": [
      "### Get subjectinfo for first_level_ev"
     ]
    },
    {
     "cell_type": "code",
     "collapsed": false,
     "input": [
      "%%file get_subjectinfo.py\n",
      "\n",
      "# Get subjectinfo for first_level_ev\n",
      "\n",
      "def get_subjectinfo(subject_id):\n",
      "    runs = 4\n",
      "    for r in range(runs):            \n",
      "        path = '/gablab/p/eegfmri/analysis/eeg/elists'\n",
      "        path_names = os.path.join(path, 'elist_IAPS_%s_%s_raw.txt' %(subject_id, r+1))\n",
      "        if subject_id == '005' and r == 1:\n",
      "            path_names = os.path.join(path, 'elist_IAPS_%s_%s_2_raw.txt' %(subject_id, r+1))\n",
      "        if subject_id == '009':\n",
      "            path_names = os.path.join(path, 'elist_IAPS_%s_%s.txt' %(subject_id, r+1))            \n",
      "        run_code = np.genfromtxt(path_names, dtype=str) [:,3]\n",
      "        unique = sorted(list(set(run_code)))\n",
      "        clock = np.genfromtxt(path_names, dtype=str) [:,4] \n",
      "        f = open('/gablab/p/eegfmri/analysis/iaps/pilot%s/cond_neg_run%s.txt' %(subject_id, r), 'w')\n",
      "        for idx2, i2 in enumerate(run_code):\n",
      "            if i2.startswith('S') and i2 != 'SyncOn' and i2 != 'Start':\n",
      "                i2 = int(i2.lstrip('S'))\n",
      "                if i2 < 121:\n",
      "                    f.write(\"%s, 2, 1\" %(clock[idx2]))\n",
      "                    f.write('\\n') \n",
      "        f.close()\n",
      "        t = open('/gablab/p/eegfmri/analysis/iaps/pilot%s/cond_neut_run%s.txt' %(subject_id, r), 'w')\n",
      "        for idx2, i2 in enumerate(run_code):\n",
      "            if i2.startswith('S') and i2 != 'SyncOn' and i2 != 'Start':\n",
      "                i2 = int(i2.lstrip('S'))\n",
      "                if i2 >= 121:\n",
      "                    t.write(\"%s, 2, 1\" %(clock[idx2]))\n",
      "                    t.write('\\n')\n",
      "        t.close()\n",
      "        \n",
      "a = get_subjectinfo('004')\n",
      "b = get_subjectinfo('005')        \n",
      "c = get_subjectinfo('006')        \n",
      "d = get_subjectinfo('007')        \n",
      "e = get_subjectinfo('008')        \n",
      "f = get_subjectinfo('009')        \n",
      "g = get_subjectinfo('011')        \n",
      "h = get_subjectinfo('012')        \n",
      "i = get_subjectinfo('013')        "
     ],
     "language": "python",
     "metadata": {},
     "outputs": [
      {
       "output_type": "stream",
       "stream": "stdout",
       "text": [
        "Overwriting get_subjectinfo.py\n"
       ]
      }
     ],
     "prompt_number": 6
    },
    {
     "cell_type": "markdown",
     "metadata": {},
     "source": [
      "### Apply Amygdala Mask to Dataset."
     ]
    },
    {
     "cell_type": "raw",
     "metadata": {},
     "source": [
      " 31  54        49     1631.7  Right-Amygdala                   854.8610    30.4415   780.8995   908.1414   127.2419 \n",
      " 15  18        49     1631.7  Left-Amygdala                    807.0057    31.3772   733.2222   865.2081   131.9859 "
     ]
    },
    {
     "cell_type": "code",
     "collapsed": false,
     "input": [
      "# try mri_binarize\n",
      "\n",
      "command_r = 'fslmaths /gablab/p/eegfmri/analysis/iaps/pilot011/segstats/aparc+aseg-in-func.nii -uthr 55 -thr 53 /gablab/p/eegfmri/analysis/iaps/pilot011/segstats/right_amygdala_mask.nii' \n",
      "a = os.system(command_r)\n",
      "command_l = 'fslmaths /gablab/p/eegfmri/analysis/iaps/pilot011/segstats/aparc+aseg-in-func.nii -uthr 19 -thr 17 /gablab/p/eegfmri/analysis/iaps/pilot011/segstats/left_amygdala_mask.nii' \n",
      "a = os.system(command_l)\n",
      "\n",
      "command_r2 = 'fslmaths /gablab/p/eegfmri/analysis/iaps/pilot011/segstats/aparc+aseg-in-func.nii /gablab/p/eegfmri/analysis/iaps/pilot011/segstats/right_amygdala_mask_2.nii' \n",
      "a = os.system(command_r2)\n",
      "command_l2 = 'fslmaths /gablab/p/eegfmri/analysis/iaps/pilot011/segstats/aparc+aseg-in-func.nii /gablab/p/eegfmri/analysis/iaps/pilot011/segstats/left_amygdala_mask_2.nii' \n",
      "a = os.system(command_l2)"
     ],
     "language": "python",
     "metadata": {},
     "outputs": [],
     "prompt_number": 7
    },
    {
     "cell_type": "code",
     "collapsed": false,
     "input": [
      "# %%file apply_mask.py\n",
      "\n",
      "\n",
      "def apply_mask(subject_id, bold):\n",
      "    import nibabel as nb\n",
      "    import pylab as pl\n",
      "    from nilearn.masking import _load_mask_img, compute_epi_mask, apply_mask, _unmask_nd, _apply_mask_fmri\n",
      "    from nilearn import _utils, resampling\n",
      "    from nilearn._utils.ndimage import largest_connected_component\n",
      "    from nilearn._utils.cache_mixin import cache\n",
      "    ra = '/gablab/p/eegfmri/analysis/iaps/pilot%s/segstats/right_amygdala_mask.nii.gz' %(subject_id)\n",
      "    ra = nb.load(ra)\n",
      "    la = '/gablab/p/eegfmri/analysis/iaps/pilot%s/segstats/left_amygdala_mask.nii.gz' %(subject_id)\n",
      "    la = nb.load(la)\n",
      "    # f = _apply_mask_fmri(bold_1, b) and NiftiMasker do not work -- doing this manually:\n",
      "    rd = _utils.as_ndarray(ra.get_data(),dtype=np.bool)\n",
      "    ld = _utils.as_ndarray(la.get_data(),dtype=np.bool)\n",
      "    rl = rd+ld\n",
      "    mask_img = ra # or la \n",
      "    mask_data = rl\n",
      "    mask_affine = mask_img.get_affine() # gets only affine of ra\n",
      "    print 'Mask [ra] affine'\n",
      "    print mask_affine\n",
      "    print 'fMRI affine'\n",
      "    print affine\n",
      "    data = bold.get_data()\n",
      "    series = _utils.as_ndarray(data, order=\"C\", copy=True)\n",
      "    X = series[mask_data].T\n",
      "    # mask_img = mask_data.get_data()\n",
      "    print 'Masked Data', X.shape\n",
      "    return X, mask_data\n",
      "\n",
      "# X, mask_data = apply_mask('011', bold)\n",
      "\n",
      "def apply_mask_all(subject_id, bold):\n",
      "    import nibabel as nb\n",
      "    import pylab as pl\n",
      "    from nilearn.masking import _load_mask_img, compute_epi_mask, apply_mask, _unmask_nd, _apply_mask_fmri\n",
      "    from nilearn import _utils, resampling\n",
      "    from nilearn._utils.ndimage import largest_connected_component\n",
      "    from nilearn._utils.cache_mixin import cache\n",
      "    ra = '/gablab/p/eegfmri/analysis/iaps/pilot%s/segstats/right_amygdala_mask_2.nii.gz' %(subject_id)\n",
      "    ra = nb.load(ra)\n",
      "    la = '/gablab/p/eegfmri/analysis/iaps/pilot%s/segstats/left_amygdala_mask_2.nii.gz' %(subject_id)\n",
      "    la = nb.load(la)\n",
      "    # f = _apply_mask_fmri(bold_1, b) and NiftiMasker do not work -- doing this manually:\n",
      "    rd = _utils.as_ndarray(ra.get_data(),dtype=np.bool)\n",
      "    ld = _utils.as_ndarray(la.get_data(),dtype=np.bool)\n",
      "    rl = rd+ld\n",
      "    mask_img = ra # or la \n",
      "    mask_data = rl\n",
      "    mask_affine = mask_img.get_affine() # gets only affine of ra\n",
      "    print 'Mask [ra] affine'\n",
      "    print mask_affine\n",
      "    print 'fMRI affine'\n",
      "    print affine\n",
      "    data = bold.get_data()\n",
      "    series = _utils.as_ndarray(data, order=\"C\", copy=True)\n",
      "    X = series[mask_data].T\n",
      "    # mask_img = mask_data.get_data()\n",
      "    print 'Masked Data', X.shape\n",
      "    return X, mask_data\n",
      "    \n",
      "X, mask_data = apply_mask_all('011', bold)\n",
      "\n",
      "\n",
      "### Visualize Mask\n",
      "\n",
      "\n",
      "from nilearn.masking import _load_mask_img, compute_epi_mask, apply_mask, _unmask_nd, _apply_mask_fmri\n",
      "import pylab as pl\n",
      "\n",
      "u = _unmask_nd(X, mask_data)\n",
      "mean_img_u = np.mean(u, axis=3, dtype=float)\n",
      "pl.figure(figsize=(20,5), dpi=80)\n",
      "pl.title('Mask All')\n",
      "pl.imshow(np.rot90(mean_img_u[:, :, 5]), interpolation='nearest')\n",
      "pl.show()\n",
      "\n"
     ],
     "language": "python",
     "metadata": {},
     "outputs": [
      {
       "output_type": "stream",
       "stream": "stdout",
       "text": [
        "Mask [ra] affine\n",
        "[[ -3.10066462e+00  -2.16162950e-01  -3.53213578e-01   1.10512512e+02]\n",
        " [ -2.03938439e-01   3.11574411e+00  -1.38766959e-01  -6.48974838e+01]\n",
        " [ -3.31530780e-01   1.05054572e-01   3.38881612e+00  -1.84246845e+01]\n",
        " [  0.00000000e+00   0.00000000e+00   0.00000000e+00   1.00000000e+00]]\n",
        "fMRI affine\n",
        "[[ -3.10066462e+00  -2.16162950e-01  -3.53213578e-01   1.10512512e+02]\n",
        " [ -2.03938439e-01   3.11574411e+00  -1.38766959e-01  -6.48974838e+01]\n",
        " [ -3.31530780e-01   1.05054572e-01   3.38881612e+00  -1.84246845e+01]\n",
        " [  0.00000000e+00   0.00000000e+00   0.00000000e+00   1.00000000e+00]]\n",
        "Masked Data"
       ]
      },
      {
       "output_type": "stream",
       "stream": "stdout",
       "text": [
        " (574, 41224)\n"
       ]
      },
      {
       "output_type": "display_data",
       "png": "[encoded data removed]",
       "text": [
        "<matplotlib.figure.Figure at 0x1aa1890>"
       ]
      }
     ],
     "prompt_number": 8
    },
    {
     "cell_type": "markdown",
     "metadata": {},
     "source": [
      "### Window of 3 TRs."
     ]
    },
    {
     "cell_type": "code",
     "collapsed": false,
     "input": [
      "# %%file window_3TR.py\n",
      "\n",
      "session = labels[:,1]\n",
      "classes = labels[:,0]\n",
      "# final matrix should match length of label/session vector\n",
      "print X.shape, len(classes)\n",
      "\n",
      "\n",
      "# current shape: first axis = 582, second axis = XYZ voxels TR_n\n",
      "# needed shape: first axis = 58*, second axis = XYZ voxels TR_n-2 + XYZ voxels TR_n-1 + XYZ voxels TR_n\n",
      "# the window needs to take the four different runs into account and not overlap TRs from different runs\n",
      "\n",
      "def window_3TR(X, session, classes, runs):\n",
      "    W = np.zeros((1, X.shape[1]*3))\n",
      "    Ls = [] # new and shortened session vector\n",
      "    Lc = [] # new and shortened classes vector\n",
      "    countall = 0\n",
      "    for r in range(runs):\n",
      "        r = str(r)\n",
      "        w1 = None\n",
      "        w2 = None\n",
      "        w3 = None\n",
      "        w4 = None\n",
      "        count = 0\n",
      "        W_i = np.zeros((1, X.shape[1]*3))\n",
      "        ls = []\n",
      "        lc = []\n",
      "        for idx2, i2 in enumerate(session):\n",
      "            if i2 == r and idx2 > ((W.shape[0])+2) and idx2 <= ((X.shape[0])): # start at 3rd TR for each run and add two previous ones - does not work yet for runs > 0\n",
      "                w1 = X[idx2-2]\n",
      "                w2 = X[idx2-1]\n",
      "                w3 = X[idx2]\n",
      "                w4 = np.hstack((w1, w2, w3))\n",
      "                W_i = np.vstack((W_i, w4))\n",
      "                ls = np.append(ls, i2)\n",
      "                lc = np.append(lc, classes[idx2])\n",
      "            if i2 == r:\n",
      "                count = count+1\n",
      "                countall = countall+1\n",
      "        print 'count_run', count, 'countall', countall, 'W', W.shape[0]\n",
      "        print 'w_i', W_i.shape\n",
      "        W_i = W_i[1:,:]\n",
      "        W = np.vstack((W, W_i))\n",
      "        Ls = np.append(Ls, ls)\n",
      "        Lc = np.append(Lc, lc)\n",
      "        print 'W', W.shape\n",
      "    W = W[1:,:]\n",
      "    print 'W final', W.shape\n",
      "    print 'countall', countall\n",
      "\n",
      "    return W, Ls, Lc\n",
      "        \n",
      "A, sessions, classes = window_3TR(X, session, classes, 4)\n",
      "\n",
      "# it was supposed to get rid of 2 TRs for each run, but instead it's only displaying 4 less."
     ],
     "language": "python",
     "metadata": {},
     "outputs": [
      {
       "output_type": "stream",
       "stream": "stdout",
       "text": [
        "(574, 41224) 574\n",
        "count_run"
       ]
      },
      {
       "output_type": "stream",
       "stream": "stdout",
       "text": [
        " 146 countall 146 W 1\n",
        "w_i (143, 123672)\n",
        "W"
       ]
      },
      {
       "output_type": "stream",
       "stream": "stdout",
       "text": [
        " (143, 123672)\n",
        "count_run"
       ]
      },
      {
       "output_type": "stream",
       "stream": "stdout",
       "text": [
        " 143 countall 289 W 143\n",
        "w_i (144, 123672)\n",
        "W"
       ]
      },
      {
       "output_type": "stream",
       "stream": "stdout",
       "text": [
        " (286, 123672)\n",
        "count_run"
       ]
      },
      {
       "output_type": "stream",
       "stream": "stdout",
       "text": [
        " 142 countall 431 W 286\n",
        "w_i (143, 123672)\n",
        "W"
       ]
      },
      {
       "output_type": "stream",
       "stream": "stdout",
       "text": [
        " (428, 123672)\n",
        "count_run"
       ]
      },
      {
       "output_type": "stream",
       "stream": "stdout",
       "text": [
        " 143 countall 574 W 428\n",
        "w_i (144, 123672)\n",
        "W"
       ]
      },
      {
       "output_type": "stream",
       "stream": "stdout",
       "text": [
        " (571, 123672)\n",
        "W final (570, 123672)\n",
        "countall 574\n"
       ]
      }
     ],
     "prompt_number": 9
    },
    {
     "cell_type": "markdown",
     "metadata": {},
     "source": [
      "## Standardization & Classifier."
     ]
    },
    {
     "cell_type": "code",
     "collapsed": false,
     "input": [
      "from sklearn import svm, preprocessing\n",
      "from sklearn.svm import LinearSVC\n",
      "import pylab as pl\n",
      "from sklearn.preprocessing import _mean_and_std, StandardScaler\n",
      "from sklearn.multiclass import OneVsRestClassifier\n",
      "from sklearn.metrics import auc_score\n",
      "from sklearn.metrics import auc\n",
      "\n",
      "# Restrict to specific conditions (for now get rid of 0, not advisable for later)\n",
      "'''\n",
      "y = labels[:,0]\n",
      "session = labels[:,1]\n",
      "condition_mask = np.logical_or(y == '-1', y == '1')\n",
      "fmri_img = nb.Nifti1Image(bold.get_data()[..., condition_mask], affine)\n",
      "y, session = y[condition_mask], session[condition_mask]\n",
      "conditions = labels[condition_mask]'''\n",
      "\n",
      "#####\n",
      "y = classes\n",
      "Xs = preprocessing.scale(A) \n",
      "\n",
      "# use pipeline instead\n",
      "#scaling_svm = Pipeline([(\"scaler\", Scaler()), (\"svm\", SVC(C=1000))])\n",
      "\n",
      "#scaler = StandardScaler()\n",
      "#Xs = scaler.fit(X)\n",
      "#Xs = scaler.transform(X) \n",
      "\n",
      "X = Xs\n",
      "clf = svm.SVC(kernel='linear', probability=True)\n",
      "y_pred = clf.fit(X, y).predict(X)\n",
      "svc = clf.support_vectors_\n",
      "\n",
      "print svc.shape\n",
      "print X.shape\n",
      "print mask_data.shape\n",
      "'''\n",
      "u = _unmask_nd(svc, mask_data) # unmask unseen data?\n",
      "mean_img_u = np.mean(u, axis=3, dtype=float)\n",
      "act_u = np.ma.masked_array(mean_img_u, mean_img_u == 0)\n",
      "\n",
      "figure(figsize=(20,5), dpi=80)\n",
      "pl.figure\n",
      "pl.subplot(1, 2, 1)\n",
      "pl.imshow(np.rot90(mean_img[:, :, 5]), cmap=pl.cm.gray, interpolation='nearest')\n",
      "plt.imshow(np.rot90(act_u[:, :, 5]),cmap=pl.cm.hot, interpolation='nearest')\n",
      "pl.title('Unmask SVC Vectors')\n",
      "\n",
      "area = auc_score(y, y_pred)\n",
      "print area'''\n",
      "\n",
      "# from sklearn.metrics import average_precision_score\n",
      "# avp = average_precision_score(y, y_pred)\n",
      "# print avp\n",
      "\n",
      "from sklearn.metrics import classification_report\n",
      "target_names = ['0', '1']\n",
      "print (classification_report(y, y_pred, target_names=target_names))\n",
      "\n"
     ],
     "language": "python",
     "metadata": {},
     "outputs": [
      {
       "output_type": "stream",
       "stream": "stdout",
       "text": [
        "(414, 123672)\n",
        "(570, 123672)\n",
        "(64, 64, 33)\n",
        "             precision    recall  f1-score   support\n",
        "\n",
        "         -1       1.00      1.00      1.00       284\n",
        "          1       1.00      1.00      1.00       286\n",
        "\n",
        "avg / total       1.00      1.00      1.00       570\n",
        "\n"
       ]
      }
     ],
     "prompt_number": 13
    },
    {
     "cell_type": "code",
     "collapsed": false,
     "input": [
      "import numpy as np\n",
      "import pylab as pl\n",
      "from sklearn import svm, datasets\n",
      "from sklearn.utils import shuffle\n",
      "from sklearn.metrics import roc_curve, auc\n",
      "from sklearn.preprocessing import binarize\n",
      "from sklearn.preprocessing import LabelBinarizer\n",
      "from sklearn.preprocessing import *\n",
      "#from sklearn.preprocessing import label_binarize\n",
      "\n",
      "random_state = np.random.RandomState(0)\n",
      "n_samples, n_features = X.shape\n",
      "\n",
      "print y\n",
      "ybin = label_binarize(y, classes=self.classes_)\n",
      "\n",
      "# shuffle and split\n",
      "X, y = shuffle(X, y, random_state=random_state)\n",
      "half = int(n_samples / 2)\n",
      "X_train, X_test = X[:half], X[half:]\n",
      "y_train, y_test = y[:half], y[half:]\n",
      "\n",
      "\n",
      "\n",
      "'''\n",
      "# classifier\n",
      "classifier = svm.SVC(kernel='linear', probability=True)\n",
      "probas_ = classifier.fit(X_train, y_train).predict_proba(X_test)\n",
      "\n",
      "# compute ROC curve and area under the curve\n",
      "fpr, tpr, thresholds = roc_curve(y_test, probas_[:, 1])\n",
      "roc_auc = auc(fpr, tpr)\n",
      "print(\"Area under the ROC curve : %f\" % roc_auc)\n",
      "'''"
     ],
     "language": "python",
     "metadata": {},
     "outputs": [
      {
       "ename": "NameError",
       "evalue": "name 'label_binarize' is not defined",
       "output_type": "pyerr",
       "traceback": [
        "\u001b[1;31m---------------------------------------------------------------------------\u001b[0m\n\u001b[1;31mNameError\u001b[0m                                 Traceback (most recent call last)",
        "\u001b[1;32m<ipython-input-33-4b4006e876cf>\u001b[0m in \u001b[0;36m<module>\u001b[1;34m()\u001b[0m\n\u001b[0;32m     13\u001b[0m \u001b[1;33m\u001b[0m\u001b[0m\n\u001b[0;32m     14\u001b[0m \u001b[1;32mprint\u001b[0m \u001b[0my\u001b[0m\u001b[1;33m\u001b[0m\u001b[0m\n\u001b[1;32m---> 15\u001b[1;33m \u001b[0mybin\u001b[0m \u001b[1;33m=\u001b[0m \u001b[0mlabel_binarize\u001b[0m\u001b[1;33m(\u001b[0m\u001b[0my\u001b[0m\u001b[1;33m,\u001b[0m \u001b[0mclasses\u001b[0m\u001b[1;33m=\u001b[0m\u001b[0mself\u001b[0m\u001b[1;33m.\u001b[0m\u001b[0mclasses_\u001b[0m\u001b[1;33m)\u001b[0m\u001b[1;33m\u001b[0m\u001b[0m\n\u001b[0m\u001b[0;32m     16\u001b[0m \u001b[1;33m\u001b[0m\u001b[0m\n\u001b[0;32m     17\u001b[0m \u001b[1;31m# shuffle and split\u001b[0m\u001b[1;33m\u001b[0m\u001b[1;33m\u001b[0m\u001b[0m\n",
        "\u001b[1;31mNameError\u001b[0m: name 'label_binarize' is not defined"
       ]
      },
      {
       "output_type": "stream",
       "stream": "stdout",
       "text": [
        "['-1.0' '-1.0' '-1.0' '1.0' '-1.0' '1.0' '1.0' '-1.0' '-1.0' '1.0' '1.0'\n",
        " '1.0' '-1.0' '1.0' '1.0' '1.0' '1.0' '-1.0' '-1.0' '1.0' '1.0' '1.0' '1.0'\n",
        " '-1.0' '-1.0' '1.0' '1.0' '-1.0' '1.0' '-1.0' '-1.0' '-1.0' '1.0' '-1.0'\n",
        " '1.0' '1.0' '-1.0' '-1.0' '-1.0' '-1.0' '1.0' '-1.0' '-1.0' '1.0' '-1.0'\n",
        " '-1.0' '-1.0' '-1.0' '-1.0' '-1.0' '1.0' '1.0' '-1.0' '-1.0' '1.0' '-1.0'\n",
        " '1.0' '-1.0' '1.0' '1.0' '-1.0' '-1.0' '1.0' '1.0' '1.0' '1.0' '1.0'\n",
        " '-1.0' '1.0' '1.0' '1.0' '1.0' '1.0' '-1.0' '-1.0' '-1.0' '-1.0' '1.0'\n",
        " '-1.0' '-1.0' '1.0' '1.0' '1.0' '-1.0' '-1.0' '-1.0' '1.0' '-1.0' '1.0'\n",
        " '-1.0' '1.0' '1.0' '-1.0' '-1.0' '1.0' '1.0' '1.0' '-1.0' '-1.0' '-1.0'\n",
        " '-1.0' '1.0' '1.0' '-1.0' '1.0' '-1.0' '1.0' '1.0' '1.0' '-1.0' '-1.0'\n",
        " '1.0' '-1.0' '-1.0' '1.0' '-1.0' '-1.0' '-1.0' '1.0' '1.0' '-1.0' '-1.0'\n",
        " '1.0' '1.0' '1.0' '1.0' '-1.0' '-1.0' '-1.0' '-1.0' '-1.0' '-1.0' '1.0'\n",
        " '1.0' '1.0' '1.0' '1.0' '1.0' '-1.0' '-1.0' '1.0' '-1.0' '1.0' '1.0'\n",
        " '-1.0' '1.0' '1.0' '-1.0' '1.0' '-1.0' '1.0' '1.0' '1.0' '1.0' '-1.0'\n",
        " '-1.0' '-1.0' '-1.0' '1.0' '-1.0' '-1.0' '-1.0' '1.0' '-1.0' '-1.0' '-1.0'\n",
        " '-1.0' '-1.0' '1.0' '-1.0' '-1.0' '1.0' '1.0' '-1.0' '-1.0' '-1.0' '1.0'\n",
        " '1.0' '-1.0' '1.0' '1.0' '1.0' '1.0' '1.0' '-1.0' '-1.0' '1.0' '-1.0'\n",
        " '-1.0' '-1.0' '-1.0' '1.0' '1.0' '1.0' '1.0' '1.0' '-1.0' '-1.0' '-1.0'\n",
        " '1.0' '-1.0' '-1.0' '1.0' '1.0' '-1.0' '1.0' '1.0' '1.0' '1.0' '-1.0'\n",
        " '-1.0' '1.0' '1.0' '-1.0' '-1.0' '1.0' '-1.0' '-1.0' '1.0' '1.0' '1.0'\n",
        " '1.0' '1.0' '-1.0' '-1.0' '-1.0' '1.0' '1.0' '-1.0' '-1.0' '1.0' '-1.0'\n",
        " '-1.0' '-1.0' '1.0' '1.0' '1.0' '1.0' '1.0' '-1.0' '-1.0' '-1.0' '1.0'\n",
        " '1.0' '1.0' '1.0' '-1.0' '1.0' '-1.0' '-1.0' '1.0' '1.0' '1.0' '1.0'\n",
        " '-1.0' '1.0' '1.0' '-1.0' '1.0' '-1.0' '1.0' '-1.0' '1.0' '-1.0' '-1.0'\n",
        " '1.0' '1.0' '-1.0' '-1.0' '-1.0' '1.0' '1.0' '1.0' '1.0' '-1.0' '-1.0'\n",
        " '1.0' '-1.0' '-1.0' '1.0' '1.0' '-1.0' '-1.0' '-1.0' '1.0' '-1.0' '-1.0'\n",
        " '1.0' '1.0' '-1.0' '1.0' '1.0' '-1.0' '1.0' '1.0' '-1.0' '-1.0' '-1.0'\n",
        " '1.0' '-1.0' '-1.0' '1.0' '-1.0' '-1.0' '-1.0' '-1.0' '-1.0' '1.0' '1.0'\n",
        " '1.0' '1.0' '1.0' '1.0' '-1.0' '1.0' '1.0' '1.0' '1.0' '-1.0' '1.0' '-1.0'\n",
        " '1.0' '1.0' '1.0' '-1.0' '-1.0' '-1.0' '1.0' '-1.0' '1.0' '1.0' '-1.0'\n",
        " '1.0' '-1.0' '1.0' '-1.0' '1.0' '-1.0' '-1.0' '-1.0' '-1.0' '-1.0' '-1.0'\n",
        " '-1.0' '1.0' '1.0' '-1.0' '1.0' '1.0' '1.0' '-1.0' '-1.0' '1.0' '-1.0'\n",
        " '-1.0' '1.0' '1.0' '1.0' '-1.0' '-1.0' '-1.0' '1.0' '-1.0' '-1.0' '1.0'\n",
        " '1.0' '1.0' '-1.0' '-1.0' '-1.0' '1.0' '-1.0' '-1.0' '-1.0' '1.0' '1.0'\n",
        " '-1.0' '-1.0' '-1.0' '1.0' '-1.0' '1.0' '1.0' '1.0' '1.0' '-1.0' '1.0'\n",
        " '-1.0' '1.0' '-1.0' '1.0' '1.0' '1.0' '1.0' '-1.0' '-1.0' '-1.0' '1.0'\n",
        " '1.0' '-1.0' '1.0' '1.0' '-1.0' '1.0' '-1.0' '-1.0' '1.0' '1.0' '1.0'\n",
        " '-1.0' '1.0' '-1.0' '1.0' '1.0' '1.0' '-1.0' '-1.0' '-1.0' '-1.0' '1.0'\n",
        " '1.0' '1.0' '-1.0' '1.0' '-1.0' '-1.0' '-1.0' '-1.0' '1.0' '-1.0' '1.0'\n",
        " '-1.0' '1.0' '1.0' '1.0' '-1.0' '1.0' '1.0' '-1.0' '-1.0' '1.0' '1.0'\n",
        " '1.0' '1.0' '-1.0' '1.0' '-1.0' '1.0' '1.0' '1.0' '-1.0' '-1.0' '1.0'\n",
        " '-1.0' '-1.0' '1.0' '-1.0' '1.0' '1.0' '-1.0' '-1.0' '1.0' '1.0' '-1.0'\n",
        " '1.0' '-1.0' '-1.0' '1.0' '-1.0' '-1.0' '-1.0' '1.0' '1.0' '1.0' '1.0'\n",
        " '-1.0' '1.0' '-1.0' '1.0' '-1.0' '1.0' '-1.0' '-1.0' '1.0' '1.0' '-1.0'\n",
        " '1.0' '1.0' '1.0' '1.0' '1.0' '-1.0' '-1.0' '-1.0' '-1.0' '1.0' '-1.0'\n",
        " '-1.0' '-1.0' '1.0' '1.0' '-1.0' '-1.0' '1.0' '1.0' '1.0' '-1.0' '1.0'\n",
        " '1.0' '-1.0' '-1.0' '-1.0' '-1.0' '1.0' '1.0' '1.0' '-1.0' '-1.0' '1.0'\n",
        " '-1.0' '1.0' '1.0' '-1.0' '1.0' '-1.0' '1.0' '-1.0' '1.0' '1.0' '-1.0'\n",
        " '1.0' '-1.0' '-1.0' '-1.0' '1.0' '-1.0' '-1.0' '1.0' '-1.0' '-1.0' '1.0'\n",
        " '-1.0' '1.0' '-1.0' '-1.0' '-1.0' '-1.0' '-1.0' '1.0' '1.0' '-1.0' '-1.0'\n",
        " '1.0' '1.0' '1.0' '1.0' '-1.0' '1.0' '-1.0' '-1.0' '1.0' '1.0' '-1.0'\n",
        " '1.0' '-1.0' '-1.0' '-1.0' '-1.0' '1.0' '-1.0']\n"
       ]
      }
     ],
     "prompt_number": 33
    },
    {
     "cell_type": "markdown",
     "metadata": {},
     "source": [
      "### Searchlight Computation."
     ]
    },
    {
     "cell_type": "code",
     "collapsed": false,
     "input": [
      "from nilearn.io import NiftiMasker\n",
      "from nibabel import Nifti1Image\n",
      "import nibabel as nb\n",
      "from nilearn.masking import compute_epi_mask, apply_mask, _unmask_nd\n",
      "\n",
      "\n",
      "y = labels[:,0]\n",
      "session = labels[:,1]\n",
      "\n",
      "# Nifti Mask\n",
      "nifti_masker = NiftiMasker(mask=None, sessions=session, memory=\"nilearn_cache\", memory_level=1)\n",
      "mask_img = Nifti1Image(fmri_data, affine)\n",
      "mask_data_all = nifti_masker.fit_transform(mask_img)\n",
      "\n",
      "# Anatomical Mask Manually\n",
      "bin_mask_img = compute_epi_mask(bold)\n",
      "bin_mask_data= bin_mask_img.get_data().astype(bool)\n",
      "print bin_mask_data.shape # equivalent to mask_data_all\n",
      "\n",
      "masked_data = apply_mask(bold, bin_mask_img)\n",
      "print masked_data.shape\n",
      "\n",
      "figure(figsize=(20,5), dpi=80)\n",
      "pl.figure\n",
      "pl.axis('off')\n",
      "pl.title('Mask')\n",
      "pl.imshow(np.rot90(bin_mask_data[:, :, 15]), interpolation='nearest')\n",
      "\n",
      "# .astype() makes a copy.\n",
      "process_mask = bin_mask_img.get_data().astype(np.int)\n",
      "process_mask_img = nb.Nifti1Image(process_mask, bin_mask_img.get_affine())\n",
      "\n",
      "n_jobs = 1\n",
      "\n",
      "from sklearn.metrics import precision_score\n",
      "score_func = precision_score\n",
      "from sklearn.cross_validation import KFold\n",
      "print y.size\n",
      "cv = KFold(y.size, k=4)\n",
      "\n",
      "import nilearn.decoding\n",
      "# The radius is the one of the Searchlight sphere that will scan the volume\n",
      "searchlight = nilearn.decoding.SearchLight(mask_img, process_mask_img=process_mask_img, radius=5.6, n_jobs=n_jobs, score_func=score_func, verbose=1, cv=cv)\n",
      "searchlight.fit(bold, y)\n"
     ],
     "language": "python",
     "metadata": {},
     "outputs": [
      {
       "output_type": "stream",
       "stream": "stdout",
       "text": [
        "(64, 64, 33)\n",
        "(582, 49664)"
       ]
      },
      {
       "output_type": "stream",
       "stream": "stdout",
       "text": [
        "\n",
        "582"
       ]
      },
      {
       "ename": "ValueError",
       "evalue": "Given mask is not made of 2 values: [    0.            16.22462654    16.57681465 ...,  1407.7097168\n  1439.74597168  1458.20080566]. Cannot interpret as true or false",
       "output_type": "pyerr",
       "traceback": [
        "\u001b[1;31m---------------------------------------------------------------------------\u001b[0m\n\u001b[1;31mValueError\u001b[0m                                Traceback (most recent call last)",
        "\u001b[1;32m<ipython-input-50-3f057acbae77>\u001b[0m in \u001b[0;36m<module>\u001b[1;34m()\u001b[0m\n\u001b[0;32m     51\u001b[0m \u001b[1;31m# The radius is the one of the Searchlight sphere that will scan the volume\u001b[0m\u001b[1;33m\u001b[0m\u001b[1;33m\u001b[0m\u001b[0m\n\u001b[0;32m     52\u001b[0m \u001b[0msearchlight\u001b[0m \u001b[1;33m=\u001b[0m \u001b[0mnilearn\u001b[0m\u001b[1;33m.\u001b[0m\u001b[0mdecoding\u001b[0m\u001b[1;33m.\u001b[0m\u001b[0mSearchLight\u001b[0m\u001b[1;33m(\u001b[0m\u001b[0mmask_img\u001b[0m\u001b[1;33m,\u001b[0m \u001b[0mprocess_mask_img\u001b[0m\u001b[1;33m=\u001b[0m\u001b[0mprocess_mask_img\u001b[0m\u001b[1;33m,\u001b[0m \u001b[0mradius\u001b[0m\u001b[1;33m=\u001b[0m\u001b[1;36m5.6\u001b[0m\u001b[1;33m,\u001b[0m \u001b[0mn_jobs\u001b[0m\u001b[1;33m=\u001b[0m\u001b[0mn_jobs\u001b[0m\u001b[1;33m,\u001b[0m \u001b[0mscore_func\u001b[0m\u001b[1;33m=\u001b[0m\u001b[0mscore_func\u001b[0m\u001b[1;33m,\u001b[0m \u001b[0mverbose\u001b[0m\u001b[1;33m=\u001b[0m\u001b[1;36m1\u001b[0m\u001b[1;33m,\u001b[0m \u001b[0mcv\u001b[0m\u001b[1;33m=\u001b[0m\u001b[0mcv\u001b[0m\u001b[1;33m)\u001b[0m\u001b[1;33m\u001b[0m\u001b[0m\n\u001b[1;32m---> 53\u001b[1;33m \u001b[0msearchlight\u001b[0m\u001b[1;33m.\u001b[0m\u001b[0mfit\u001b[0m\u001b[1;33m(\u001b[0m\u001b[0mbold\u001b[0m\u001b[1;33m,\u001b[0m \u001b[0my\u001b[0m\u001b[1;33m)\u001b[0m\u001b[1;33m\u001b[0m\u001b[0m\n\u001b[0m",
        "\u001b[1;32m/mindhive/gablab/u/doreenr/lib/python2.7/site-packages/nilearn/decoding/searchlight.pyc\u001b[0m in \u001b[0;36mfit\u001b[1;34m(self, niimgs, y)\u001b[0m\n\u001b[0;32m    272\u001b[0m \u001b[1;33m\u001b[0m\u001b[0m\n\u001b[0;32m    273\u001b[0m         \u001b[1;31m# Compute world coordinates of all in-mask voxels.\u001b[0m\u001b[1;33m\u001b[0m\u001b[1;33m\u001b[0m\u001b[0m\n\u001b[1;32m--> 274\u001b[1;33m         \u001b[0mmask\u001b[0m\u001b[1;33m,\u001b[0m \u001b[0mmask_affine\u001b[0m \u001b[1;33m=\u001b[0m \u001b[0mmasking\u001b[0m\u001b[1;33m.\u001b[0m\u001b[0m_load_mask_img\u001b[0m\u001b[1;33m(\u001b[0m\u001b[0mself\u001b[0m\u001b[1;33m.\u001b[0m\u001b[0mmask_img\u001b[0m\u001b[1;33m)\u001b[0m\u001b[1;33m\u001b[0m\u001b[0m\n\u001b[0m\u001b[0;32m    275\u001b[0m         \u001b[0mmask_coords\u001b[0m \u001b[1;33m=\u001b[0m \u001b[0mnp\u001b[0m\u001b[1;33m.\u001b[0m\u001b[0mwhere\u001b[0m\u001b[1;33m(\u001b[0m\u001b[0mmask\u001b[0m \u001b[1;33m!=\u001b[0m \u001b[1;36m0\u001b[0m\u001b[1;33m)\u001b[0m\u001b[1;33m\u001b[0m\u001b[0m\n\u001b[0;32m    276\u001b[0m         mask_coords = np.asarray(mask_coords + (np.ones(len(mask_coords[0]),\n",
        "\u001b[1;32m/mindhive/gablab/u/doreenr/lib/python2.7/site-packages/nilearn/masking.pyc\u001b[0m in \u001b[0;36m_load_mask_img\u001b[1;34m(mask_img, allow_empty)\u001b[0m\n\u001b[0;32m     48\u001b[0m         raise ValueError('Given mask is not made of 2 values: %s'\n\u001b[0;32m     49\u001b[0m                          \u001b[1;34m'. Cannot interpret as true or false'\u001b[0m\u001b[1;33m\u001b[0m\u001b[0m\n\u001b[1;32m---> 50\u001b[1;33m                          % values)\n\u001b[0m\u001b[0;32m     51\u001b[0m \u001b[1;33m\u001b[0m\u001b[0m\n\u001b[0;32m     52\u001b[0m     \u001b[0mmask\u001b[0m \u001b[1;33m=\u001b[0m \u001b[0m_utils\u001b[0m\u001b[1;33m.\u001b[0m\u001b[0mas_ndarray\u001b[0m\u001b[1;33m(\u001b[0m\u001b[0mmask\u001b[0m\u001b[1;33m,\u001b[0m \u001b[0mdtype\u001b[0m\u001b[1;33m=\u001b[0m\u001b[0mbool\u001b[0m\u001b[1;33m)\u001b[0m\u001b[1;33m\u001b[0m\u001b[0m\n",
        "\u001b[1;31mValueError\u001b[0m: Given mask is not made of 2 values: [    0.            16.22462654    16.57681465 ...,  1407.7097168\n  1439.74597168  1458.20080566]. Cannot interpret as true or false"
       ]
      },
      {
       "output_type": "stream",
       "stream": "stdout",
       "text": [
        "\n"
       ]
      },
      {
       "output_type": "stream",
       "stream": "stderr",
       "text": [
        "/mindhive/gablab/u/doreenr/lib/python2.7/site-packages/sklearn/cross_validation.py:240: DeprecationWarning: The parameter k was renamed to n_folds and will be removed in 0.15.\n",
        "  \" removed in 0.15.\", DeprecationWarning)\n"
       ]
      },
      {
       "output_type": "display_data",
       "png": "[encoded data removed]",
       "text": [
        "<matplotlib.figure.Figure at 0x5e2e810>"
       ]
      }
     ],
     "prompt_number": 50
    },
    {
     "cell_type": "code",
     "collapsed": false,
     "input": [
      "A"
     ],
     "language": "python",
     "metadata": {},
     "outputs": []
    }
   ],
   "metadata": {}
  }
 ]
}